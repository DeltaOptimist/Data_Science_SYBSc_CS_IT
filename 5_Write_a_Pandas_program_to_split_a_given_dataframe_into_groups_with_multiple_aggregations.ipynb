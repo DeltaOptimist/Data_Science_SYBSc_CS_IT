{
  "nbformat": 4,
  "nbformat_minor": 0,
  "metadata": {
    "colab": {
      "name": "5_Write a Pandas program to split a given dataframe into groups with multiple aggregations.ipynb",
      "provenance": []
    },
    "kernelspec": {
      "name": "python3",
      "display_name": "Python 3"
    },
    "language_info": {
      "name": "python"
    }
  },
  "cells": [
    {
      "cell_type": "code",
      "execution_count": 2,
      "metadata": {
        "id": "UuF7a4_R_Jzg"
      },
      "outputs": [],
      "source": [
        "import pandas as pd\n",
        "pd.set_option('display.max_rows', None)\n",
        "#pd.set_option('display.max_columns', None)\n"
      ]
    },
    {
      "cell_type": "code",
      "source": [
        "df = pd.DataFrame({\n",
        "    'school_code': ['s001','s002','s003','s001','s002','s001'],\n",
        "    'class': ['V', 'V', 'VI', 'VI', 'V', 'VI'],\n",
        "    'name': ['Alberto Franco','Gino Mcneill','Ryan Parkes', 'Eesha Hinton', 'Gino Mcneill', 'David Parkes'],\n",
        "    'date_Of_Birth ': ['15/05/2002','17/05/2002','16/02/1999','25/09/1998','11/05/2002','15/09/1997'],\n",
        "    'age': [12, 12, 13, 13, 14, 12],\n",
        "    'height': [173, 192, 186, 167, 151, 159],\n",
        "    'weight': [35, 32, 33, 30, 31, 32],\n",
        "    'address': ['street1', 'street2', 'street3', 'street1', 'street2', 'street4']},\n",
        "    index=['S1', 'S2', 'S3', 'S4', 'S5', 'S6'])\n",
        "print(\"Original DataFrame:\")\n",
        "print(df)\n",
        "print(\"\\nGroup by with multiple aggregations:\")\n",
        "result = df.groupby(['school_code','class']).agg({'height': ['max', 'mean'],\n",
        "                                 'weight': ['sum','min','count']})\n",
        "print(result)"
      ],
      "metadata": {
        "colab": {
          "base_uri": "https://localhost:8080/"
        },
        "id": "kWT7_N1K_SZa",
        "outputId": "4b15a0ec-5bc2-46d4-f5ee-1184953e7374"
      },
      "execution_count": 3,
      "outputs": [
        {
          "output_type": "stream",
          "name": "stdout",
          "text": [
            "Original DataFrame:\n",
            "   school_code class            name  ... height  weight  address\n",
            "S1        s001     V  Alberto Franco  ...    173      35  street1\n",
            "S2        s002     V    Gino Mcneill  ...    192      32  street2\n",
            "S3        s003    VI     Ryan Parkes  ...    186      33  street3\n",
            "S4        s001    VI    Eesha Hinton  ...    167      30  street1\n",
            "S5        s002     V    Gino Mcneill  ...    151      31  street2\n",
            "S6        s001    VI    David Parkes  ...    159      32  street4\n",
            "\n",
            "[6 rows x 8 columns]\n",
            "\n",
            "Group by with multiple aggregations:\n",
            "                  height        weight          \n",
            "                     max   mean    sum min count\n",
            "school_code class                               \n",
            "s001        V        173  173.0     35  35     1\n",
            "            VI       167  163.0     62  30     2\n",
            "s002        V        192  171.5     63  31     2\n",
            "s003        VI       186  186.0     33  33     1\n"
          ]
        }
      ]
    },
    {
      "cell_type": "code",
      "source": [
        ""
      ],
      "metadata": {
        "id": "ohur_uug_U9X"
      },
      "execution_count": null,
      "outputs": []
    }
  ]
}