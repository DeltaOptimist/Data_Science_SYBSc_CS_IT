{
  "nbformat": 4,
  "nbformat_minor": 0,
  "metadata": {
    "colab": {
      "name": "Practical_2_ii_Write a NumPy program to partition a given array in a specified position and move all the smaller elements values to the left of the partition, and the remaining values to the right in arbitrary order.ipynb",
      "provenance": []
    },
    "kernelspec": {
      "name": "python3",
      "display_name": "Python 3"
    },
    "language_info": {
      "name": "python"
    }
  },
  "cells": [
    {
      "cell_type": "markdown",
      "metadata": {
        "id": "P3136uTy9AS_"
      },
      "source": [
        "Write a NumPy program to partition a given array in a specified position and move all the smaller elements values to the left of the partition, and the remaining values to the right, in arbitrary order (based on random choice)."
      ]
    },
    {
      "cell_type": "code",
      "metadata": {
        "id": "ctDzttIU9CyA"
      },
      "source": [
        "import numpy as np"
      ],
      "execution_count": 1,
      "outputs": []
    },
    {
      "cell_type": "code",
      "metadata": {
        "colab": {
          "base_uri": "https://localhost:8080/"
        },
        "id": "2cMeF-BY9B3U",
        "outputId": "edcbd3db-c215-4393-d381-1bb755f7d7da"
      },
      "source": [
        "nums = np.array([70, 50, 20, 30, -11, 60, 50, 40])\n",
        "print(\"Original array:\")\n",
        "print(nums)"
      ],
      "execution_count": 2,
      "outputs": [
        {
          "output_type": "stream",
          "name": "stdout",
          "text": [
            "Original array:\n",
            "[ 70  50  20  30 -11  60  50  40]\n"
          ]
        }
      ]
    },
    {
      "cell_type": "code",
      "metadata": {
        "colab": {
          "base_uri": "https://localhost:8080/"
        },
        "id": "Dt-n8-G19NLy",
        "outputId": "8aa4df67-0c03-46fe-e62e-5a06bdab74a9"
      },
      "source": [
        "print(\"\\nAfter partitioning on 4 the position:\")\n",
        "print(np.partition(nums, 4))"
      ],
      "execution_count": 3,
      "outputs": [
        {
          "output_type": "stream",
          "name": "stdout",
          "text": [
            "\n",
            "After partitioning on 4 the position:\n",
            "[-11  30  20  40  50  50  60  70]\n"
          ]
        }
      ]
    },
    {
      "cell_type": "code",
      "metadata": {
        "id": "4NHb-l1G9qxn"
      },
      "source": [
        ""
      ],
      "execution_count": null,
      "outputs": []
    }
  ]
}