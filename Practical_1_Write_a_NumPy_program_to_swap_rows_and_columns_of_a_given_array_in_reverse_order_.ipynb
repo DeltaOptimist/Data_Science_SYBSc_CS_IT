{
  "nbformat": 4,
  "nbformat_minor": 0,
  "metadata": {
    "colab": {
      "name": "Practical_1_Write a NumPy program to swap rows and columns of a given array in reverse order..ipynb",
      "provenance": []
    },
    "kernelspec": {
      "name": "python3",
      "display_name": "Python 3"
    },
    "language_info": {
      "name": "python"
    }
  },
  "cells": [
    {
      "cell_type": "markdown",
      "metadata": {
        "id": "SXYxjLn5s9eE"
      },
      "source": [
        "Write a NumPy program to swap rows and columns of a given array in reverse order."
      ]
    },
    {
      "cell_type": "code",
      "metadata": {
        "id": "Hnm4SxVUtC-7"
      },
      "source": [
        "#import library\n",
        "import numpy as np"
      ],
      "execution_count": 1,
      "outputs": []
    },
    {
      "cell_type": "code",
      "metadata": {
        "colab": {
          "base_uri": "https://localhost:8080/"
        },
        "id": "P2mP38D-tcPA",
        "outputId": "12c22f6e-a656-45a9-b708-976c95e370a9"
      },
      "source": [
        "# declare variable  \n",
        "nums = np.array([[[1, 2, 3, 4],\n",
        "               [0, 1, 3, 4],\n",
        "               [90, 91, 93, 94],\n",
        "               [5, 0, 3, 2]]])\n",
        "print(\"Original array:\")\n",
        "print(nums)"
      ],
      "execution_count": 2,
      "outputs": [
        {
          "output_type": "stream",
          "name": "stdout",
          "text": [
            "Original array:\n",
            "[[[ 1  2  3  4]\n",
            "  [ 0  1  3  4]\n",
            "  [90 91 93 94]\n",
            "  [ 5  0  3  2]]]\n"
          ]
        }
      ]
    },
    {
      "cell_type": "code",
      "metadata": {
        "colab": {
          "base_uri": "https://localhost:8080/"
        },
        "id": "rLkBX8TZtd5p",
        "outputId": "2c58ab33-a03f-40e9-fbe3-5f4265094c55"
      },
      "source": [
        "# perfrom reverse operation\n",
        "print(\"\\nSwap rows and columns of the said array in reverse order:\")\n",
        "new_nums = print(nums[::-1, ::-1])\n",
        "print(new_nums)"
      ],
      "execution_count": 3,
      "outputs": [
        {
          "output_type": "stream",
          "name": "stdout",
          "text": [
            "\n",
            "Swap rows and columns of the said array in reverse order:\n",
            "[[[ 5  0  3  2]\n",
            "  [90 91 93 94]\n",
            "  [ 0  1  3  4]\n",
            "  [ 1  2  3  4]]]\n",
            "None\n"
          ]
        }
      ]
    },
    {
      "cell_type": "code",
      "metadata": {
        "id": "MRKCDUWBt0qX"
      },
      "source": [
        ""
      ],
      "execution_count": null,
      "outputs": []
    }
  ]
}