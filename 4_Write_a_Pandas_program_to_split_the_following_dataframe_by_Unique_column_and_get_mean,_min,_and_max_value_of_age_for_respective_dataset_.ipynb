{
  "nbformat": 4,
  "nbformat_minor": 0,
  "metadata": {
    "colab": {
      "name": "4_Write a Pandas program to split the following dataframe by Unique_column and get mean, min, and max value of age for respective dataset. .ipynb",
      "provenance": []
    },
    "kernelspec": {
      "name": "python3",
      "display_name": "Python 3"
    },
    "language_info": {
      "name": "python"
    }
  },
  "cells": [
    {
      "cell_type": "code",
      "execution_count": 1,
      "metadata": {
        "id": "-k1qRNKs7fN_"
      },
      "outputs": [],
      "source": [
        "import pandas as pd\n",
        "pd.set_option('display.max_rows', None)\n",
        "#pd.set_option('display.max_columns', None)\n"
      ]
    },
    {
      "cell_type": "code",
      "source": [
        "student_data = pd.DataFrame({\n",
        "    'school_code': ['s001','s002','s003','s001','s002','s004'],\n",
        "    'class': ['V', 'V', 'VI', 'VI', 'V', 'VI'],\n",
        "    'name': ['Alberto Franco','Gino Mcneill','Ryan Parkes', 'Eesha Hinton', 'Gino Mcneill', 'David Parkes'],\n",
        "    'date_Of_Birth ': ['15/05/2002','17/05/2002','16/02/1999','25/09/1998','11/05/2002','15/09/1997'],\n",
        "    'age': [12, 12, 13, 13, 14, 12],\n",
        "    'height': [173, 192, 186, 167, 151, 159],\n",
        "    'weight': [35, 32, 33, 30, 31, 32],\n",
        "    'address': ['street1', 'street2', 'street3', 'street1', 'street2', 'street4']},\n",
        "    index=['S1', 'S2', 'S3', 'S4', 'S5', 'S6'])\n",
        "\n",
        "print(\"Original DataFrame:\")\n",
        "print(student_data)\n"
      ],
      "metadata": {
        "colab": {
          "base_uri": "https://localhost:8080/"
        },
        "id": "1NoC4Vd18hb1",
        "outputId": "63c1139e-2c7e-4203-f5d7-7de101a940e1"
      },
      "execution_count": 2,
      "outputs": [
        {
          "output_type": "stream",
          "name": "stdout",
          "text": [
            "Original DataFrame:\n",
            "   school_code class            name  ... height  weight  address\n",
            "S1        s001     V  Alberto Franco  ...    173      35  street1\n",
            "S2        s002     V    Gino Mcneill  ...    192      32  street2\n",
            "S3        s003    VI     Ryan Parkes  ...    186      33  street3\n",
            "S4        s001    VI    Eesha Hinton  ...    167      30  street1\n",
            "S5        s002     V    Gino Mcneill  ...    151      31  street2\n",
            "S6        s004    VI    David Parkes  ...    159      32  street4\n",
            "\n",
            "[6 rows x 8 columns]\n"
          ]
        }
      ]
    },
    {
      "cell_type": "code",
      "source": [
        "print('\\nMean, min, and max value of age for each value of the school:')\n",
        "grouped_single = student_data.groupby('school_code').agg({'age': ['mean', 'min', 'max']})\n",
        "print(grouped_single)"
      ],
      "metadata": {
        "colab": {
          "base_uri": "https://localhost:8080/"
        },
        "id": "IfWQURhT8kR_",
        "outputId": "a83052dc-2151-405a-cb4e-9ec374d80bc9"
      },
      "execution_count": 3,
      "outputs": [
        {
          "output_type": "stream",
          "name": "stdout",
          "text": [
            "\n",
            "Mean, min, and max value of age for each value of the school:\n",
            "              age        \n",
            "             mean min max\n",
            "school_code              \n",
            "s001         12.5  12  13\n",
            "s002         13.0  12  14\n",
            "s003         13.0  13  13\n",
            "s004         12.0  12  12\n"
          ]
        }
      ]
    },
    {
      "cell_type": "code",
      "source": [
        ""
      ],
      "metadata": {
        "id": "rUuCntc58ltL"
      },
      "execution_count": null,
      "outputs": []
    },
    {
      "cell_type": "code",
      "source": [
        ""
      ],
      "metadata": {
        "id": "Z4gbPBW8-Kta"
      },
      "execution_count": null,
      "outputs": []
    }
  ]
}