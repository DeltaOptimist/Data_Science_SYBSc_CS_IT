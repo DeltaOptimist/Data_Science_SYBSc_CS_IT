{
  "nbformat": 4,
  "nbformat_minor": 0,
  "metadata": {
    "colab": {
      "name": "Prcatical_2_i_Write a NumPy program to sort an given array by the nth column..ipynb",
      "provenance": []
    },
    "kernelspec": {
      "name": "python3",
      "display_name": "Python 3"
    },
    "language_info": {
      "name": "python"
    }
  },
  "cells": [
    {
      "cell_type": "markdown",
      "metadata": {
        "id": "0jvZIopKuskb"
      },
      "source": [
        "Write a NumPy program to sort an given array by the nth column."
      ]
    },
    {
      "cell_type": "code",
      "metadata": {
        "id": "fXJ4gthsu0QI"
      },
      "source": [
        "# import library\n",
        "import numpy as np"
      ],
      "execution_count": 1,
      "outputs": []
    },
    {
      "cell_type": "code",
      "metadata": {
        "colab": {
          "base_uri": "https://localhost:8080/"
        },
        "id": "4OTEjTKru_Cz",
        "outputId": "063e352e-7272-4dc4-b6eb-3a06ecbdbefe"
      },
      "source": [
        "# create variable or array using random function in numpy\n",
        "print(\"Original array:\\n\")\n",
        "nums = np.random.randint(0,10,(3,3))\n",
        "print(nums)"
      ],
      "execution_count": 7,
      "outputs": [
        {
          "output_type": "stream",
          "name": "stdout",
          "text": [
            "Original array:\n",
            "\n",
            "[[9 9 1]\n",
            " [4 8 2]\n",
            " [0 1 8]]\n"
          ]
        }
      ]
    },
    {
      "cell_type": "code",
      "metadata": {
        "colab": {
          "base_uri": "https://localhost:8080/"
        },
        "id": "ciPDEbH8vBA8",
        "outputId": "708c68ee-6340-4751-8334-15a9a0eed39d"
      },
      "source": [
        "# Sort the nth column in the array \n",
        "print(\"\\nSort the said array by the nth column: \")\n",
        "print(nums[nums[:,1].argsort()])"
      ],
      "execution_count": 8,
      "outputs": [
        {
          "output_type": "stream",
          "name": "stdout",
          "text": [
            "\n",
            "Sort the said array by the nth column: \n",
            "[[0 1 8]\n",
            " [4 8 2]\n",
            " [9 9 1]]\n"
          ]
        }
      ]
    },
    {
      "cell_type": "code",
      "metadata": {
        "colab": {
          "base_uri": "https://localhost:8080/"
        },
        "id": "5G8v_DjmvWy8",
        "outputId": "8d04ee05-9f6f-450b-f323-f445c8400c1f"
      },
      "source": [
        "# can be used in one cell also if u get same output in different cells\n",
        "print(\"Original array:\\n\")\n",
        "nums = np.random.randint(0,10,(3,3))\n",
        "print(nums)\n",
        "print(\"\\nSort the said array by the nth column: \")\n",
        "print(nums[nums[:,1].argsort()])"
      ],
      "execution_count": 9,
      "outputs": [
        {
          "output_type": "stream",
          "name": "stdout",
          "text": [
            "Original array:\n",
            "\n",
            "[[9 5 5]\n",
            " [3 1 2]\n",
            " [6 7 9]]\n",
            "\n",
            "Sort the said array by the nth column: \n",
            "[[3 1 2]\n",
            " [9 5 5]\n",
            " [6 7 9]]\n"
          ]
        }
      ]
    },
    {
      "cell_type": "code",
      "metadata": {
        "id": "9vvZEBxWvnE3"
      },
      "source": [
        ""
      ],
      "execution_count": null,
      "outputs": []
    }
  ]
}