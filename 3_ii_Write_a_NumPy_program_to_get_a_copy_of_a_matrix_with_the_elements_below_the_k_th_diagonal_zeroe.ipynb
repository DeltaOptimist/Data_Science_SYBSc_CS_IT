{
  "nbformat": 4,
  "nbformat_minor": 0,
  "metadata": {
    "colab": {
      "name": "3.ii. Write a NumPy program to get a copy of a matrix with the elements below the k-th diagonal zeroe.ipynb",
      "provenance": []
    },
    "kernelspec": {
      "name": "python3",
      "display_name": "Python 3"
    },
    "language_info": {
      "name": "python"
    }
  },
  "cells": [
    {
      "cell_type": "code",
      "execution_count": 1,
      "metadata": {
        "colab": {
          "base_uri": "https://localhost:8080/"
        },
        "id": "fuBw7z4L6qy3",
        "outputId": "cc7be8a8-44ec-4405-82be-4ce54f2ccddd"
      },
      "outputs": [
        {
          "output_type": "stream",
          "name": "stdout",
          "text": [
            "\n",
            "Copy of a matrix with the elements below the k-th diagonal zeroed:\n",
            "[[ 1  2  3]\n",
            " [ 4  5  6]\n",
            " [ 0  8  9]\n",
            " [ 0  0 12]]\n"
          ]
        }
      ],
      "source": [
        "import numpy as np\n",
        "result  = np.triu([[1,2,3],[4,5,6],[7,8,9],[10,11,12]], -1)\n",
        "print(\"\\nCopy of a matrix with the elements below the k-th diagonal zeroed:\")\n",
        "print(result)"
      ]
    },
    {
      "cell_type": "code",
      "source": [
        ""
      ],
      "metadata": {
        "id": "I_xapcL_6x-S"
      },
      "execution_count": null,
      "outputs": []
    }
  ]
}